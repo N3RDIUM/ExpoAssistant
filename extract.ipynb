{
 "cells": [
  {
   "cell_type": "code",
   "execution_count": 1,
   "metadata": {},
   "outputs": [
    {
     "name": "stdout",
     "output_type": "stream",
     "text": [
      "Requirement already satisfied: pandas in ./.venv/lib/python3.11/site-packages (2.1.0)\n",
      "Requirement already satisfied: numpy>=1.23.2 in ./.venv/lib/python3.11/site-packages (from pandas) (1.25.2)\n",
      "Requirement already satisfied: python-dateutil>=2.8.2 in ./.venv/lib/python3.11/site-packages (from pandas) (2.8.2)\n",
      "Requirement already satisfied: pytz>=2020.1 in ./.venv/lib/python3.11/site-packages (from pandas) (2023.3)\n",
      "Requirement already satisfied: tzdata>=2022.1 in ./.venv/lib/python3.11/site-packages (from pandas) (2023.3)\n",
      "Requirement already satisfied: six>=1.5 in ./.venv/lib/python3.11/site-packages (from python-dateutil>=2.8.2->pandas) (1.16.0)\n",
      "Note: you may need to restart the kernel to use updated packages.\n",
      "   SR. No.   Room No                 Topic       Name of the student Class  \\\n",
      "0         1      207  Rainwater Harvesting                       NaN   NaN   \n",
      "1         2      207                   NaN  Kirti,Arohi,Sirsa,Shruti   NaN   \n",
      "2         3      207  Rainwater Harvesting                   Aksha S   NaN   \n",
      "3         4      207       Newton's Cradel                       NaN   NaN   \n",
      "4         5      207  Rainwater Harvesting            Atharva Sharma   NaN   \n",
      "\n",
      "   Unnamed: 5  Unnamed: 6  \n",
      "0         NaN         NaN  \n",
      "1         NaN         NaN  \n",
      "2         NaN         NaN  \n",
      "3         NaN         NaN  \n",
      "4         NaN         NaN  \n"
     ]
    }
   ],
   "source": [
    "%pip install pandas\n",
    "import pandas as pd\n",
    "df = pd.read_csv('edata.csv')\n",
    "print(df.head())"
   ]
  },
  {
   "cell_type": "code",
   "execution_count": 2,
   "metadata": {},
   "outputs": [
    {
     "name": "stdout",
     "output_type": "stream",
     "text": [
      "['2', '3'] ['207', '210', '211', '307', '310']\n"
     ]
    }
   ],
   "source": [
    "_rooms = df[\"Room No\"]\n",
    "rooms = []\n",
    "for room in _rooms:\n",
    "    if not str(room) in rooms:\n",
    "        rooms.append(str(room))\n",
    "floors = []\n",
    "for room in rooms:\n",
    "    if not room[0] in floors:\n",
    "        floors.append(room[0])\n",
    "print(floors, rooms)"
   ]
  },
  {
   "cell_type": "code",
   "execution_count": 3,
   "metadata": {},
   "outputs": [],
   "source": [
    "topics = []"
   ]
  },
  {
   "cell_type": "code",
   "execution_count": 4,
   "metadata": {},
   "outputs": [
    {
     "name": "stdout",
     "output_type": "stream",
     "text": [
      "[{'title': 'Rainwater Harvesting', 'roomNumber': '207', 'floor': '2', 'members': ['nan'], 'class': 'nan'}, {'title': nan, 'roomNumber': '207', 'floor': '2', 'members': ['Kirti', 'Arohi', 'Sirsa', 'Shruti'], 'class': 'nan'}, {'title': 'Rainwater Harvesting', 'roomNumber': '207', 'floor': '2', 'members': ['Aksha S'], 'class': 'nan'}, {'title': \"Newton's Cradel\", 'roomNumber': '207', 'floor': '2', 'members': ['nan'], 'class': 'nan'}, {'title': 'Rainwater Harvesting', 'roomNumber': '207', 'floor': '2', 'members': ['Atharva Sharma'], 'class': 'nan'}, {'title': 'Parts of plant', 'roomNumber': '207', 'floor': '2', 'members': ['Divanka Dere'], 'class': 'nan'}, {'title': 'Ground water recharge', 'roomNumber': '207', 'floor': '2', 'members': ['Arnav Pisal'], 'class': 'nan'}, {'title': 'Water purification', 'roomNumber': '207', 'floor': '2', 'members': ['nan'], 'class': 'nan'}, {'title': 'Land pollution', 'roomNumber': '207', 'floor': '2', 'members': ['Akshara Deo'], 'class': 'nan'}, {'title': 'Water pollution', 'roomNumber': '210', 'floor': '2', 'members': ['Zayan Bhat'], 'class': '4 Narmada'}, {'title': 'Water Cycle ', 'roomNumber': '210', 'floor': '2', 'members': ['Sharanya Roy'], 'class': '3 Kaveri'}, {'title': 'Global Warming', 'roomNumber': '210', 'floor': '2', 'members': ['Mathan Zode', 'Aayush Bhabhate'], 'class': '5 Kaveri'}, {'title': nan, 'roomNumber': '210', 'floor': '2', 'members': ['Prajakta Tapole', 'Aarya Bagl', 'Komal', 'Shrisha Shinde', 'Manasvi', 'A\"ya singh'], 'class': 'nan'}, {'title': 'Atomic sturcture', 'roomNumber': '210', 'floor': '2', 'members': ['Atharva', 'Pankaj Sutar', 'Krishna Malpani'], 'class': '& kaveri'}, {'title': nan, 'roomNumber': '210', 'floor': '2', 'members': ['Arpita Mishra'], 'class': '4 Narmada'}, {'title': 'Rainwater Harvesting', 'roomNumber': '210', 'floor': '2', 'members': ['Divya Agarwal'], 'class': '5 Kaveri'}, {'title': 'Water Purification ', 'roomNumber': '210', 'floor': '2', 'members': ['Ruchi', 'Saiyan', 'Vansh'], 'class': '5 Ganga'}, {'title': nan, 'roomNumber': '210', 'floor': '2', 'members': ['Mrunal Nonde'], 'class': '7 Yamuna'}, {'title': 'Global warming', 'roomNumber': '210', 'floor': '2', 'members': ['Furgan', 'Lavanya More'], 'class': '5 Kaveri'}, {'title': 'Global Warming', 'roomNumber': '211', 'floor': '2', 'members': ['Safwan Khan', 'Md. Furquar', 'Avneesh'], 'class': '5 narmada'}, {'title': 'Water pollution', 'roomNumber': '211', 'floor': '2', 'members': ['Rishita Mude'], 'class': '4 Kaveri'}, {'title': 'Food chain', 'roomNumber': '211', 'floor': '2', 'members': ['nan'], 'class': 'nan'}, {'title': ' Wind energy', 'roomNumber': '211', 'floor': '2', 'members': ['Giya Parikh', 'Vedica Ware', 'Neyeti'], 'class': '7 Ganga'}, {'title': 'Water Cycle ', 'roomNumber': '211', 'floor': '2', 'members': ['nan'], 'class': 'nan'}, {'title': ' Drip irrigation', 'roomNumber': '211', 'floor': '2', 'members': ['Dhyani Patel'], 'class': '5 Kaveri'}, {'title': 'Photosynthesis', 'roomNumber': '307', 'floor': '3', 'members': ['Akshita Borade', 'Aradhya Pandule', 'Vedanti Darshbute'], 'class': 'nan'}, {'title': 'Bridge', 'roomNumber': '307', 'floor': '3', 'members': ['Swaraj'], 'class': '8 Ganga'}, {'title': 'Types of irrigation', 'roomNumber': '307', 'floor': '3', 'members': ['nan'], 'class': 'nan'}, {'title': 'Thermo electric generator', 'roomNumber': '307', 'floor': '3', 'members': ['Shreyas H', 'Soham M', 'Sujay B', 'Vedant M\\r\\nAyaan S'], 'class': '7 Ganga'}, {'title': 'Smart Car', 'roomNumber': '307', 'floor': '3', 'members': ['Vihaan Bhandage', 'Vard Kolekar'], 'class': '8'}, {'title': 'Windmill', 'roomNumber': '307', 'floor': '3', 'members': ['Mrunal Londhe'], 'class': '7 yamuna'}, {'title': 'Chemical company', 'roomNumber': '307', 'floor': '3', 'members': ['nan'], 'class': 'nan'}, {'title': 'Robotics (Car)', 'roomNumber': '307', 'floor': '3', 'members': ['Sarthak Jadhav'], 'class': '7 Kaveri'}, {'title': 'Types of Pollution', 'roomNumber': '307', 'floor': '3', 'members': ['Sanskruti K', 'Aarohi Patil', 'Urvish'], 'class': '4 kaveri'}, {'title': 'DNA model', 'roomNumber': '307', 'floor': '3', 'members': ['nan'], 'class': 'nan'}, {'title': 'Earthquake Detecter', 'roomNumber': '307', 'floor': '3', 'members': ['Krishna Malpani', 'Pankaj Sutar', 'Atharva Mapri'], 'class': '7 Kaveri'}, {'title': 'Hydrolic Crane', 'roomNumber': '307', 'floor': '3', 'members': ['nan'], 'class': 'nan'}, {'title': 'Fun with Science\\r\\n(Electric Loop)', 'roomNumber': '310', 'floor': '3', 'members': ['Tanmay'], 'class': '6 Kaveri'}, {'title': 'Electric loop', 'roomNumber': '310', 'floor': '3', 'members': ['nan'], 'class': '7 Kaeri'}, {'title': 'Magnetic games', 'roomNumber': '310', 'floor': '3', 'members': ['nan'], 'class': '7 kaveri'}, {'title': 'Air pollution detecter', 'roomNumber': '310', 'floor': '3', 'members': ['nan'], 'class': '4 ganga'}]\n"
     ]
    }
   ],
   "source": [
    "projects = []\n",
    "for index, row in df.iterrows():\n",
    "    projects.append({\n",
    "        \"title\": row[\"Topic\"],\n",
    "        \"roomNumber\": str(row[\"Room No\"]),\n",
    "        \"floor\": str(row[\"Room No\"])[0],\n",
    "        \"members\": str(row[\"Name of the student\"]).split(\",\"),\n",
    "        \"class\": str(row[\"Class\"])\n",
    "    })\n",
    "    for i in range(len(projects[-1][\"members\"])):\n",
    "        projects[-1][\"members\"][i] = projects[-1][\"members\"][i].strip()\n",
    "print(projects)"
   ]
  },
  {
   "cell_type": "code",
   "execution_count": 5,
   "metadata": {},
   "outputs": [],
   "source": [
    "# Now save to json\n",
    "import json\n",
    "with open('edata.json', 'w') as outfile:\n",
    "    json.dump({\n",
    "        \"floors\": floors,\n",
    "        \"rooms\": rooms,\n",
    "        \"projects\": projects,    \n",
    "    }, outfile, indent=4)"
   ]
  }
 ],
 "metadata": {
  "kernelspec": {
   "display_name": "Python 3",
   "language": "python",
   "name": "python3"
  },
  "language_info": {
   "codemirror_mode": {
    "name": "ipython",
    "version": 3
   },
   "file_extension": ".py",
   "mimetype": "text/x-python",
   "name": "python",
   "nbconvert_exporter": "python",
   "pygments_lexer": "ipython3",
   "version": "3.11.5"
  },
  "orig_nbformat": 4
 },
 "nbformat": 4,
 "nbformat_minor": 2
}
