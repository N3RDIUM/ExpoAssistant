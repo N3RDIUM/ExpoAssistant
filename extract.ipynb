{
 "cells": [
  {
   "cell_type": "code",
   "execution_count": 1,
   "metadata": {},
   "outputs": [
    {
     "name": "stdout",
     "output_type": "stream",
     "text": [
      "Collecting pandas\n",
      "  Obtaining dependency information for pandas from https://files.pythonhosted.org/packages/d9/26/895a49ebddb4211f2d777150f38ef9e538deff6df7e179a3624c663efc98/pandas-2.1.0-cp311-cp311-manylinux_2_17_x86_64.manylinux2014_x86_64.whl.metadata\n",
      "  Downloading pandas-2.1.0-cp311-cp311-manylinux_2_17_x86_64.manylinux2014_x86_64.whl.metadata (18 kB)\n",
      "Collecting numpy>=1.23.2 (from pandas)\n",
      "  Obtaining dependency information for numpy>=1.23.2 from https://files.pythonhosted.org/packages/32/6a/65dbc57a89078af9ff8bfcd4c0761a50172d90192eaeb1b6f56e5fbf1c3d/numpy-1.25.2-cp311-cp311-manylinux_2_17_x86_64.manylinux2014_x86_64.whl.metadata\n",
      "  Downloading numpy-1.25.2-cp311-cp311-manylinux_2_17_x86_64.manylinux2014_x86_64.whl.metadata (5.6 kB)\n",
      "Requirement already satisfied: python-dateutil>=2.8.2 in ./.venv/lib/python3.11/site-packages (from pandas) (2.8.2)\n",
      "Collecting pytz>=2020.1 (from pandas)\n",
      "  Downloading pytz-2023.3-py2.py3-none-any.whl (502 kB)\n",
      "\u001b[2K     \u001b[90m━━━━━━━━━━━━━━━━━━━━━━━━━━━━━━━━━━━━━━\u001b[0m \u001b[32m502.3/502.3 kB\u001b[0m \u001b[31m10.9 MB/s\u001b[0m eta \u001b[36m0:00:00\u001b[0ma \u001b[36m0:00:01\u001b[0m\n",
      "\u001b[?25hCollecting tzdata>=2022.1 (from pandas)\n",
      "  Downloading tzdata-2023.3-py2.py3-none-any.whl (341 kB)\n",
      "\u001b[2K     \u001b[90m━━━━━━━━━━━━━━━━━━━━━━━━━━━━━━━━━━━━━━\u001b[0m \u001b[32m341.8/341.8 kB\u001b[0m \u001b[31m10.7 MB/s\u001b[0m eta \u001b[36m0:00:00\u001b[0m\n",
      "\u001b[?25hRequirement already satisfied: six>=1.5 in ./.venv/lib/python3.11/site-packages (from python-dateutil>=2.8.2->pandas) (1.16.0)\n",
      "Downloading pandas-2.1.0-cp311-cp311-manylinux_2_17_x86_64.manylinux2014_x86_64.whl (12.6 MB)\n",
      "\u001b[2K   \u001b[90m━━━━━━━━━━━━━━━━━━━━━━━━━━━━━━━━━━━━━━━━\u001b[0m \u001b[32m12.6/12.6 MB\u001b[0m \u001b[31m6.0 MB/s\u001b[0m eta \u001b[36m0:00:00\u001b[0m00:01\u001b[0m00:01\u001b[0m\n",
      "\u001b[?25hDownloading numpy-1.25.2-cp311-cp311-manylinux_2_17_x86_64.manylinux2014_x86_64.whl (18.2 MB)\n",
      "\u001b[2K   \u001b[90m━━━━━━━━━━━━━━━━━━━━━━━━━━━━━━━━━━━━━━━━\u001b[0m \u001b[32m18.2/18.2 MB\u001b[0m \u001b[31m5.7 MB/s\u001b[0m eta \u001b[36m0:00:00\u001b[0m00:01\u001b[0m00:01\u001b[0m\n",
      "\u001b[?25hInstalling collected packages: pytz, tzdata, numpy, pandas\n",
      "Successfully installed numpy-1.25.2 pandas-2.1.0 pytz-2023.3 tzdata-2023.3\n",
      "   SR. No.   Room No                 Topic       Name of the student Class  \\\n",
      "0         1      207  Rainwater Harvesting                       NaN   NaN   \n",
      "1         2      207                   NaN  Kirti,Arohi,Sirsa,Shruti   NaN   \n",
      "2         3      207  Rainwater Harvesting                   Aksha S   NaN   \n",
      "3         4      207       Newton's Cradel                       NaN   NaN   \n",
      "4         5      207  Rainwater Harvesting            Atharva Sharma   NaN   \n",
      "\n",
      "   Unnamed: 5  Unnamed: 6  \n",
      "0         NaN         NaN  \n",
      "1         NaN         NaN  \n",
      "2         NaN         NaN  \n",
      "3         NaN         NaN  \n",
      "4         NaN         NaN  \n"
     ]
    }
   ],
   "source": [
    "%pip install pandas\n",
    "import pandas as pd\n",
    "df = pd.read_csv('edata.csv')\n",
    "print(df.head())"
   ]
  },
  {
   "cell_type": "code",
   "execution_count": 2,
   "metadata": {},
   "outputs": [
    {
     "name": "stdout",
     "output_type": "stream",
     "text": [
      "['2', '3'] ['207', '210', '211', '307', '310']\n"
     ]
    }
   ],
   "source": [
    "_rooms = df[\"Room No\"]\n",
    "rooms = []\n",
    "for room in _rooms:\n",
    "    if not str(room) in rooms:\n",
    "        rooms.append(str(room))\n",
    "floors = []\n",
    "for room in rooms:\n",
    "    if not room[0] in floors:\n",
    "        floors.append(room[0])\n",
    "print(floors, rooms)"
   ]
  },
  {
   "cell_type": "code",
   "execution_count": 3,
   "metadata": {},
   "outputs": [],
   "source": [
    "topics = []"
   ]
  },
  {
   "cell_type": "code",
   "execution_count": 10,
   "metadata": {},
   "outputs": [
    {
     "name": "stdout",
     "output_type": "stream",
     "text": [
      "[{'title': 'Rainwater Harvesting', 'description': '', 'category': '', 'roomNumber': '207', 'floor': '2', 'members': ['nan']}, {'title': nan, 'description': '', 'category': '', 'roomNumber': '207', 'floor': '2', 'members': ['Kirti', 'Arohi', 'Sirsa', 'Shruti']}, {'title': 'Rainwater Harvesting', 'description': '', 'category': '', 'roomNumber': '207', 'floor': '2', 'members': ['Aksha S']}, {'title': \"Newton's Cradel\", 'description': '', 'category': '', 'roomNumber': '207', 'floor': '2', 'members': ['nan']}, {'title': 'Rainwater Harvesting', 'description': '', 'category': '', 'roomNumber': '207', 'floor': '2', 'members': ['Atharva Sharma']}, {'title': 'Parts of plant', 'description': '', 'category': '', 'roomNumber': '207', 'floor': '2', 'members': ['Divanka Dere']}, {'title': 'Ground water recharge', 'description': '', 'category': '', 'roomNumber': '207', 'floor': '2', 'members': ['Arnav Pisal']}, {'title': 'Water purification', 'description': '', 'category': '', 'roomNumber': '207', 'floor': '2', 'members': ['nan']}, {'title': 'Land pollution', 'description': '', 'category': '', 'roomNumber': '207', 'floor': '2', 'members': ['Akshara Deo']}, {'title': 'Water pollution', 'description': '', 'category': '', 'roomNumber': '210', 'floor': '2', 'members': ['Zayan Bhat']}, {'title': 'Water Cycle ', 'description': '', 'category': '', 'roomNumber': '210', 'floor': '2', 'members': ['Sharanya Roy']}, {'title': 'Global Warming', 'description': '', 'category': '', 'roomNumber': '210', 'floor': '2', 'members': ['Mathan Zode', 'Aayush Bhabhate']}, {'title': nan, 'description': '', 'category': '', 'roomNumber': '210', 'floor': '2', 'members': ['Prajakta Tapole', 'Aarya Bagl', 'Komal', 'Shrisha Shinde', 'Manasvi', 'Ananya singh']}, {'title': 'Atomic sturcture', 'description': '', 'category': '', 'roomNumber': '210', 'floor': '2', 'members': ['Atharva', 'Pankaj Sutar', 'Krishna Malpani']}, {'title': nan, 'description': '', 'category': '', 'roomNumber': '210', 'floor': '2', 'members': ['Arpita Mishra']}, {'title': 'Rainwater Harvesting', 'description': '', 'category': '', 'roomNumber': '210', 'floor': '2', 'members': ['Divya Agarwal']}, {'title': 'Water Purification ', 'description': '', 'category': '', 'roomNumber': '210', 'floor': '2', 'members': ['Ruchi', 'Saiyan', 'Vansh']}, {'title': nan, 'description': '', 'category': '', 'roomNumber': '210', 'floor': '2', 'members': ['Mrunal Nonde']}, {'title': 'Global warming', 'description': '', 'category': '', 'roomNumber': '210', 'floor': '2', 'members': ['Furgan', 'Lavanya More']}, {'title': 'Global Warming', 'description': '', 'category': '', 'roomNumber': '211', 'floor': '2', 'members': ['Safwan Khan', 'Md. Furquar', 'Avneesh']}, {'title': 'Water pollution', 'description': '', 'category': '', 'roomNumber': '211', 'floor': '2', 'members': ['Rishita Mude']}, {'title': 'Food chain', 'description': '', 'category': '', 'roomNumber': '211', 'floor': '2', 'members': ['nan']}, {'title': ' Wind energy', 'description': '', 'category': '', 'roomNumber': '211', 'floor': '2', 'members': ['Giya Parikh', 'Vedica Ware', 'Neyeti']}, {'title': 'Water Cycle ', 'description': '', 'category': '', 'roomNumber': '211', 'floor': '2', 'members': ['nan']}, {'title': ' Drip irrigation', 'description': '', 'category': '', 'roomNumber': '211', 'floor': '2', 'members': ['Dhyani Patel']}, {'title': 'Photosynthesis', 'description': '', 'category': '', 'roomNumber': '307', 'floor': '3', 'members': ['Akshita Borade', 'Aradhya Pandule', 'Vedanti Darshbute']}, {'title': 'Bridge', 'description': '', 'category': '', 'roomNumber': '307', 'floor': '3', 'members': ['Swaraj']}, {'title': 'Types of irrigation', 'description': '', 'category': '', 'roomNumber': '307', 'floor': '3', 'members': ['nan']}, {'title': 'Thermo electric generator', 'description': '', 'category': '', 'roomNumber': '307', 'floor': '3', 'members': ['Shreyas H', 'Soham M', 'Sujay B', 'Vedant M\\r\\nAyaan S']}, {'title': 'Smart Car', 'description': '', 'category': '', 'roomNumber': '307', 'floor': '3', 'members': ['Vihaan Bhandage', 'Vard Kolekar']}, {'title': 'Windmill', 'description': '', 'category': '', 'roomNumber': '307', 'floor': '3', 'members': ['Mrunal Londhe']}, {'title': 'Chemical company', 'description': '', 'category': '', 'roomNumber': '307', 'floor': '3', 'members': ['nan']}, {'title': 'Robotics (Car)', 'description': '', 'category': '', 'roomNumber': '307', 'floor': '3', 'members': ['Sarthak Jadhav']}, {'title': 'Types of Pollution', 'description': '', 'category': '', 'roomNumber': '307', 'floor': '3', 'members': ['Sanskruti K', 'Aarohi Patil', 'Urvish']}, {'title': 'DNA model', 'description': '', 'category': '', 'roomNumber': '307', 'floor': '3', 'members': ['nan']}, {'title': 'Earthquake Detecter', 'description': '', 'category': '', 'roomNumber': '307', 'floor': '3', 'members': ['Krishna Malpani', 'Pankaj Sutar', 'Atharva Mapri']}, {'title': 'Hydrolic Crane', 'description': '', 'category': '', 'roomNumber': '307', 'floor': '3', 'members': ['nan']}, {'title': 'Fun with Science\\r\\n(Electric Loop)', 'description': '', 'category': '', 'roomNumber': '310', 'floor': '3', 'members': ['Tanmay']}, {'title': 'Electric loop', 'description': '', 'category': '', 'roomNumber': '310', 'floor': '3', 'members': ['nan']}, {'title': 'Magnetic games', 'description': '', 'category': '', 'roomNumber': '310', 'floor': '3', 'members': ['nan']}, {'title': 'Air pollution detecter', 'description': '', 'category': '', 'roomNumber': '310', 'floor': '3', 'members': ['nan']}]\n"
     ]
    }
   ],
   "source": [
    "projects = []\n",
    "for index, row in df.iterrows():\n",
    "    projects.append({\n",
    "        \"title\": row[\"Topic\"],\n",
    "        \"description\": \"\",\n",
    "        \"category\": \"\",\n",
    "        \"roomNumber\": str(row[\"Room No\"]),\n",
    "        \"floor\": str(row[\"Room No\"])[0],\n",
    "        \"members\": str(row[\"Name of the student\"]).split(\",\"),\n",
    "    })\n",
    "    for i in range(len(projects[-1][\"members\"])):\n",
    "        projects[-1][\"members\"][i] = projects[-1][\"members\"][i].strip()\n",
    "print(projects)"
   ]
  },
  {
   "cell_type": "code",
   "execution_count": 11,
   "metadata": {},
   "outputs": [],
   "source": [
    "# Now save to json\n",
    "import json\n",
    "with open('edata.json', 'w') as outfile:\n",
    "    json.dump({\n",
    "        \"floors\": floors,\n",
    "        \"rooms\": rooms,\n",
    "        \"projects\": projects,    \n",
    "    }, outfile, indent=4)"
   ]
  }
 ],
 "metadata": {
  "kernelspec": {
   "display_name": "Python 3",
   "language": "python",
   "name": "python3"
  },
  "language_info": {
   "codemirror_mode": {
    "name": "ipython",
    "version": 3
   },
   "file_extension": ".py",
   "mimetype": "text/x-python",
   "name": "python",
   "nbconvert_exporter": "python",
   "pygments_lexer": "ipython3",
   "version": "3.11.5"
  },
  "orig_nbformat": 4
 },
 "nbformat": 4,
 "nbformat_minor": 2
}
