{
 "cells": [
  {
   "cell_type": "code",
   "execution_count": 8,
   "metadata": {},
   "outputs": [
    {
     "name": "stdout",
     "output_type": "stream",
     "text": [
      "Requirement already satisfied: pandas in ./.venv/lib/python3.11/site-packages (2.1.0)\n",
      "Requirement already satisfied: numpy>=1.23.2 in ./.venv/lib/python3.11/site-packages (from pandas) (1.25.2)\n",
      "Requirement already satisfied: python-dateutil>=2.8.2 in ./.venv/lib/python3.11/site-packages (from pandas) (2.8.2)\n",
      "Requirement already satisfied: pytz>=2020.1 in ./.venv/lib/python3.11/site-packages (from pandas) (2023.3)\n",
      "Requirement already satisfied: tzdata>=2022.1 in ./.venv/lib/python3.11/site-packages (from pandas) (2023.3)\n",
      "Requirement already satisfied: six>=1.5 in ./.venv/lib/python3.11/site-packages (from python-dateutil>=2.8.2->pandas) (1.16.0)\n",
      "Note: you may need to restart the kernel to use updated packages.\n",
      "   Sr. No  Room No            Project Name                   Student Name  \\\n",
      "0     1.0      201         Photosynthesis        Prabhir M ,  Soham pawar   \n",
      "1     2.0      201               Wind Mill                      Gautham A   \n",
      "2     3.0      201         Drip Irrigation         Shlok, Sparsh, Sarvesh   \n",
      "3     4.0      201  Rain Water Harvesting                    Akshkumar G.   \n",
      "4     5.0      201        Digestive System  Vedika, Ira, Parnika, Sanvi B   \n",
      "\n",
      "  Class  \n",
      "0   NaN  \n",
      "1   NaN  \n",
      "2   NaN  \n",
      "3   NaN  \n",
      "4   NaN  \n"
     ]
    }
   ],
   "source": [
    "%pip install pandas\n",
    "import pandas as pd\n",
    "df = pd.read_csv('edata.csv')\n",
    "print(df.head())"
   ]
  },
  {
   "cell_type": "code",
   "execution_count": 9,
   "metadata": {},
   "outputs": [
    {
     "name": "stdout",
     "output_type": "stream",
     "text": [
      "['2', '3', '4'] ['201', '204', '205', '206', '207', '208', '209', '210', '211', '301', '304', '306', '307', '308', '310', '311', '410', '411']\n"
     ]
    }
   ],
   "source": [
    "_rooms = df[\"Room No\"]\n",
    "rooms = []\n",
    "for room in _rooms:\n",
    "    if not str(room) in rooms:\n",
    "        rooms.append(str(room))\n",
    "floors = []\n",
    "for room in rooms:\n",
    "    if not room[0] in floors:\n",
    "        floors.append(room[0])\n",
    "print(floors, rooms)"
   ]
  },
  {
   "cell_type": "code",
   "execution_count": 10,
   "metadata": {},
   "outputs": [],
   "source": [
    "topics = []"
   ]
  },
  {
   "cell_type": "code",
   "execution_count": 11,
   "metadata": {},
   "outputs": [
    {
     "name": "stdout",
     "output_type": "stream",
     "text": [
      "[{'title': 'Photosynthesis ', 'roomNumber': '201', 'floor': '1', 'members': ['Prabhir M', 'Soham pawar'], 'class': 'nan'}, {'title': 'Wind Mill', 'roomNumber': '201', 'floor': '1', 'members': ['Gautham A'], 'class': 'nan'}, {'title': 'Drip Irrigation', 'roomNumber': '201', 'floor': '1', 'members': ['Shlok', 'Sparsh', 'Sarvesh'], 'class': 'nan'}, {'title': 'Rain Water Harvesting ', 'roomNumber': '201', 'floor': '1', 'members': ['Akshkumar G.'], 'class': 'nan'}, {'title': 'Digestive System', 'roomNumber': '201', 'floor': '1', 'members': ['Vedika', 'Ira', 'Parnika', 'Sanvi B'], 'class': 'nan'}, {'title': 'Types of Pollution', 'roomNumber': '201', 'floor': '1', 'members': ['Ayan Hashmi'], 'class': 'nan'}, {'title': 'Parts of Plants', 'roomNumber': '201', 'floor': '1', 'members': ['Rubeen', 'Gautam', 'Ganesh G.'], 'class': 'nan'}, {'title': 'Water Cycle', 'roomNumber': '201', 'floor': '1', 'members': ['Parth'], 'class': 'nan'}, {'title': 'Rain Water Harvesting ', 'roomNumber': '201', 'floor': '1', 'members': ['Ganesh Ghodke', 'Ganesh M', 'Ojas', 'Hardik', 'Nachiket'], 'class': 'nan'}, {'title': 'Types of Houses', 'roomNumber': '201', 'floor': '1', 'members': ['Nishi G & Anaghya'], 'class': 'nan'}, {'title': 'Water Cycle', 'roomNumber': '204', 'floor': '1', 'members': ['Aradhya Ogale'], 'class': 'III-G'}, {'title': 'Parts of Plants', 'roomNumber': '204', 'floor': '1', 'members': ['Ridhisha Bhvaskar'], 'class': 'III-G'}, {'title': 'Parts of Plants', 'roomNumber': '204', 'floor': '1', 'members': ['Tanvi Mane'], 'class': 'III- K'}, {'title': 'Types of Houses', 'roomNumber': '204', 'floor': '1', 'members': ['inaaya Choudhary'], 'class': 'III - Y'}, {'title': 'Parts of Plants', 'roomNumber': '204', 'floor': '1', 'members': ['pranvi Gadekar'], 'class': 'III- G'}, {'title': 'Global Warming', 'roomNumber': '204', 'floor': '1', 'members': ['Shreya', 'Vedashri', 'Siddhi', 'swarda'], 'class': 'V- G'}, {'title': 'Solar Agriculture Irrigation', 'roomNumber': '204', 'floor': '1', 'members': ['Swayam Jangave'], 'class': 'VI - G'}, {'title': 'Mechanical Energy', 'roomNumber': '204', 'floor': '1', 'members': ['Silki Shah', 'Simran R', ''], 'class': 'VII - K'}, {'title': 'Automic Structure', 'roomNumber': '204', 'floor': '1', 'members': ['Atharv Mapari'], 'class': 'VII -K'}, {'title': 'Earthquake Detector', 'roomNumber': '204', 'floor': '1', 'members': ['Pankaj Sutar'], 'class': 'VII - K'}, {'title': 'Human Heart working model', 'roomNumber': '204', 'floor': '1', 'members': ['1. Krishna malpani'], 'class': 'VII - K'}, {'title': 'Biogas Plant', 'roomNumber': '204', 'floor': '1', 'members': ['Shlok Joshi', 'Siddhesh Patil'], 'class': 'VII - K'}, {'title': 'Rain Water Harvesting ', 'roomNumber': '204', 'floor': '1', 'members': ['Darsh Mehta'], 'class': 'V -N'}, {'title': 'Types of Houses', 'roomNumber': '205', 'floor': '1', 'members': ['Anvi Jirafe'], 'class': 'nan'}, {'title': 'Global Warming', 'roomNumber': '205', 'floor': '1', 'members': ['Aishwaerya', 'Sidheshwari'], 'class': 'nan'}, {'title': 'Rain Water Harvesting ', 'roomNumber': '205', 'floor': '1', 'members': ['Anvit', 'Piyush', 'Prathmesh', 'Tanay'], 'class': 'nan'}, {'title': 'Solar Energy', 'roomNumber': '205', 'floor': '1', 'members': ['Gargi Age'], 'class': 'nan'}, {'title': 'Renewable Energy', 'roomNumber': '205', 'floor': '1', 'members': ['Atharv Jirafe'], 'class': 'nan'}, {'title': 'Types of Houses', 'roomNumber': '205', 'floor': '1', 'members': ['Siddhant Mane'], 'class': 'nan'}, {'title': 'Villege And City', 'roomNumber': '205', 'floor': '1', 'members': ['raghav', 'Vinay'], 'class': 'nan'}, {'title': 'Electricity come to house', 'roomNumber': '205', 'floor': '1', 'members': ['Vihan', 'viraj C.', 'Adrash', 'Vinay'], 'class': 'nan'}, {'title': 'Drip irrigation', 'roomNumber': '205', 'floor': '1', 'members': ['Varad Mali', 'Swaraj P.'], 'class': 'nan'}, {'title': 'Types of Houses', 'roomNumber': '205', 'floor': '1', 'members': ['Ananya Gupta'], 'class': 'III'}, {'title': 'Types of Houses ( igloo)', 'roomNumber': '205', 'floor': '1', 'members': ['Yogita C.'], 'class': 'III-N'}, {'title': 'Mini Cooler', 'roomNumber': '205', 'floor': '1', 'members': ['Aditya mahajan'], 'class': 'VI - Y'}, {'title': 'Parts of Plants', 'roomNumber': '206', 'floor': '1', 'members': ['Hrudya', 'Harshada'], 'class': 'III'}, {'title': 'Food Pyramid', 'roomNumber': '206', 'floor': '1', 'members': ['Rajveer'], 'class': 'III-N'}, {'title': 'Wind Mill', 'roomNumber': '206', 'floor': '1', 'members': ['Dhruv', 'Preetam G'], 'class': 'VI- Y'}, {'title': 'Wind Mill', 'roomNumber': '206', 'floor': '1', 'members': ['nan'], 'class': 'nan'}, {'title': 'Solar Panel', 'roomNumber': '206', 'floor': '1', 'members': ['Priansh M'], 'class': 'IV -G'}, {'title': 'Solar System', 'roomNumber': '206', 'floor': '1', 'members': ['Aarohi Shinde'], 'class': 'III'}, {'title': 'Solar Energy', 'roomNumber': '206', 'floor': '1', 'members': ['Sanskriti', 'Sanchi', 'Sanvi', 'Siddhi'], 'class': 'VI'}, {'title': 'Global Warming', 'roomNumber': '206', 'floor': '1', 'members': ['Arnav Wagh'], 'class': 'V - Y'}, {'title': 'Washing Machine', 'roomNumber': '206', 'floor': '1', 'members': ['Vedank mahajan'], 'class': 'VI- K'}, {'title': 'Lungs ', 'roomNumber': '206', 'floor': '1', 'members': ['Kshitij'], 'class': 'VI - K'}, {'title': 'Wet Waste Compost', 'roomNumber': '206', 'floor': '1', 'members': ['Arnav Suthar'], 'class': 'VI - K'}, {'title': 'Rain Water Harvesting ', 'roomNumber': '206', 'floor': '1', 'members': ['Dikshit Tayade'], 'class': 'V -K'}, {'title': 'Rain Water Harvesting ', 'roomNumber': '206', 'floor': '1', 'members': ['Kruti S.'], 'class': 'V - N'}, {'title': 'Rain Water Harvesting ', 'roomNumber': '207', 'floor': '1', 'members': ['Roshni', 'Dnyanda', 'saisha'], 'class': 'VI - G'}, {'title': 'Land pollution', 'roomNumber': '207', 'floor': '1', 'members': ['Akshara Deo'], 'class': 'IV - k'}, {'title': 'Water purification', 'roomNumber': '207', 'floor': '1', 'members': ['Sparsh', 'Rujul'], 'class': 'IV - k'}, {'title': 'Rain Water Harvesting ', 'roomNumber': '207', 'floor': '1', 'members': ['Arnav Pisal'], 'class': 'V - Y'}, {'title': 'Water purification', 'roomNumber': '207', 'floor': '1', 'members': ['Shrisha', 'Kirti', 'Arohi', 'Shruti'], 'class': 'IV - k'}, {'title': 'Parts of Plants', 'roomNumber': '207', 'floor': '1', 'members': ['Divanka Dere'], 'class': 'III -K'}, {'title': 'Rain Water Harvesting ', 'roomNumber': '207', 'floor': '1', 'members': ['Atharva Sharma'], 'class': 'V- G'}, {'title': 'Rain Water Harvesting ', 'roomNumber': '207', 'floor': '1', 'members': ['Roshni', 'Shreya', 'Aksha', 'Pratiksha'], 'class': 'V - K'}, {'title': 'Water Using Solar Energy', 'roomNumber': '207', 'floor': '1', 'members': ['Sahil', 'Kartik', 'Arav', 'A', 'Qureshi'], 'class': 'VI - G'}, {'title': 'Solar Energy', 'roomNumber': '208', 'floor': '1', 'members': ['Samrth', 'Ashutish', 'Atharv'], 'class': 'nan'}, {'title': 'Types of houses', 'roomNumber': '208', 'floor': '1', 'members': ['Piyush Lele'], 'class': 'nan'}, {'title': 'Water purification', 'roomNumber': '208', 'floor': '1', 'members': ['Kavya Kavade'], 'class': 'Iv - k'}, {'title': 'Water Cycle', 'roomNumber': '208', 'floor': '1', 'members': ['Pihu Dixit'], 'class': 'nan'}, {'title': 'Solarc Energy', 'roomNumber': '208', 'floor': '1', 'members': ['Durva Joshi'], 'class': 'VI - G'}, {'title': 'Photosynthesis ', 'roomNumber': '208', 'floor': '1', 'members': ['Harshit B.'], 'class': 'IV - N'}, {'title': 'Parts of Plants', 'roomNumber': '208', 'floor': '1', 'members': ['Tanishka'], 'class': 'III - G'}, {'title': 'Types of Houses (house boat)', 'roomNumber': '208', 'floor': '1', 'members': ['Garv Shah'], 'class': 'III - Y'}, {'title': 'Eco Friendly houses', 'roomNumber': '208', 'floor': '1', 'members': ['Avanish'], 'class': 'V- N'}, {'title': 'Natural Resources', 'roomNumber': '208', 'floor': '1', 'members': ['Vedant jirafe'], 'class': 'III - N'}, {'title': 'Water Cycle', 'roomNumber': '208', 'floor': '1', 'members': ['Sanvi U.'], 'class': 'III -N'}, {'title': 'Types of houses', 'roomNumber': '208', 'floor': '1', 'members': ['Avneesh Roy'], 'class': 'III - Y'}, {'title': 'Vikram Lander', 'roomNumber': '208', 'floor': '1', 'members': ['Yuvraj', 'Shrvil', 'Aman', 'Arshan', 'Sngram'], 'class': 'VII'}, {'title': 'Types of Pollution', 'roomNumber': '208', 'floor': '1', 'members': ['Saanvi', 'Siya', 'Spruha'], 'class': 'nan'}, {'title': 'Types of houses', 'roomNumber': '209', 'floor': '1', 'members': ['Sharvi Harkare'], 'class': 'III - K'}, {'title': 'Science behid biodegration', 'roomNumber': '209', 'floor': '1', 'members': ['Nakshatra', 'Adwita', 'puri', 'krishna priya P.'], 'class': 'IX - G'}, {'title': 'ATM', 'roomNumber': '209', 'floor': '1', 'members': ['Ayesha', 'Ramsha'], 'class': 'VI - K'}, {'title': 'Photosynthesis ', 'roomNumber': '209', 'floor': '1', 'members': ['Shreeyash', 'Tejas'], 'class': 'IV - N'}, {'title': 'Parts of Plants', 'roomNumber': '209', 'floor': '1', 'members': ['Sanvi', 'Paridhi'], 'class': 'III - K'}, {'title': 'Photosynthesis ', 'roomNumber': '209', 'floor': '1', 'members': ['Vedanti', 'Aradhya', 'Akshita'], 'class': 'IV-  Y'}, {'title': 'Global Warming', 'roomNumber': '209', 'floor': '1', 'members': ['Farhan Shaikh'], 'class': 'V -G'}, {'title': 'Types of irrigation', 'roomNumber': '209', 'floor': '1', 'members': ['Tanvi Dulha'], 'class': 'V- N'}, {'title': 'Air Pollution', 'roomNumber': '209', 'floor': '1', 'members': ['Ishan Sonawane'], 'class': 'IV - N'}, {'title': 'Rain Detector', 'roomNumber': '209', 'floor': '1', 'members': ['Sai Dhakane'], 'class': 'VI - Y'}, {'title': 'Hydrolic Arm', 'roomNumber': '209', 'floor': '1', 'members': ['kuber Nandagaon'], 'class': 'VI -Y'}, {'title': 'Water Cycle', 'roomNumber': '209', 'floor': '1', 'members': ['Myra Jamdar'], 'class': 'III - Y'}, {'title': 'Land pollution', 'roomNumber': '209', 'floor': '1', 'members': ['Veeha', 'Shreya'], 'class': 'nan'}, {'title': 'Innovation method of Recycle', 'roomNumber': '210', 'floor': '1', 'members': ['Mohammed Kolhar'], 'class': 'V- N'}, {'title': 'Water Cycle', 'roomNumber': '210', 'floor': '1', 'members': ['Sharanya roy'], 'class': 'III - K'}, {'title': 'Rain Water Harvesting ', 'roomNumber': '210', 'floor': '1', 'members': ['Ruchi', 'Saiyam', 'Vansh', ''], 'class': 'V -G'}, {'title': 'Rain Water Harvesting ', 'roomNumber': '210', 'floor': '1', 'members': ['Divya Agarwal'], 'class': 'V -K'}, {'title': 'Global Warming', 'roomNumber': '210', 'floor': '1', 'members': ['Lavanya More'], 'class': 'V -K'}, {'title': 'Air pollution', 'roomNumber': '210', 'floor': '1', 'members': ['Arpita Mishra'], 'class': 'IV - N'}, {'title': 'Food Pyramid', 'roomNumber': '210', 'floor': '1', 'members': ['Arnavi Acharekar'], 'class': 'III - Y'}, {'title': 'Acid Rain', 'roomNumber': '210', 'floor': '1', 'members': ['Shrisha', 'Arya', 'Prajkta', 'Ananya', 'komal'], 'class': 'VII -K'}, {'title': 'Global Warming', 'roomNumber': '210', 'floor': '1', 'members': ['Ayush', 'Amnthan'], 'class': 'V -K'}, {'title': 'Water Pollition', 'roomNumber': '210', 'floor': '1', 'members': ['Zayan Naseer Bhat', 'Sarthak Shinde'], 'class': 'IV-N'}, {'title': 'Water Cycle', 'roomNumber': '211', 'floor': '1', 'members': ['Freeha Shaikh'], 'class': 'III -G'}, {'title': 'Global Warming', 'roomNumber': '211', 'floor': '1', 'members': ['Safwan Khan'], 'class': 'V -N'}, {'title': 'Food Chain', 'roomNumber': '211', 'floor': '1', 'members': ['Shruti Gaikwad'], 'class': 'V -G'}, {'title': 'Water Cycle', 'roomNumber': '211', 'floor': '1', 'members': ['Kiah Shah'], 'class': 'III - Y'}, {'title': 'Agro forestry-Ecology with economy', 'roomNumber': '211', 'floor': '1', 'members': ['Priya G. Prisha B. Aushri  M', 'Aditi N'], 'class': 'nan'}, {'title': 'Rain Water Harvesting ', 'roomNumber': '211', 'floor': '1', 'members': ['Vivaa'], 'class': 'nan'}, {'title': 'Types of houses', 'roomNumber': '211', 'floor': '1', 'members': ['Hridaan Totale'], 'class': 'nan'}, {'title': 'Types of houses', 'roomNumber': '211', 'floor': '1', 'members': ['nan'], 'class': 'nan'}, {'title': 'Types of Irrigation', 'roomNumber': '301', 'floor': '2', 'members': ['Yashwini Baviskar', 'Dhyani Patel', 'Aahna Rajgor', 'Aadya Kamatkar'], 'class': 'nan'}, {'title': 'Dam & Drip Irrigation', 'roomNumber': '301', 'floor': '2', 'members': ['Anushree K', 'Chinmayi'], 'class': 'nan'}, {'title': 'Food Pyramid', 'roomNumber': '301', 'floor': '2', 'members': ['Dhruvi Agrawal'], 'class': 'nan'}, {'title': 'Innovative ideas for Lightning', 'roomNumber': '301', 'floor': '2', 'members': ['Anandi Vispute', 'Aradhana Mane', 'Riddhiee Mahajan', 'Aditi Jaiswal'], 'class': 'nan'}, {'title': 'Hologram', 'roomNumber': '301', 'floor': '2', 'members': ['Shreyas Karpe', 'Arnav Suryawanshi', 'Yash Jadhav', 'Aryan Wagh', 'Piyush Bhosale'], 'class': 'nan'}, {'title': 'Global Warming', 'roomNumber': '301', 'floor': '2', 'members': ['Raunak Desai'], 'class': 'nan'}, {'title': 'Water Conservation', 'roomNumber': '301', 'floor': '2', 'members': ['Mahi M', 'Smriti M', 'Niya'], 'class': 'nan'}, {'title': 'Air Pollution', 'roomNumber': '304', 'floor': '2', 'members': ['Aatish', 'Aditya', 'Keval'], 'class': 'nan'}, {'title': 'Types of houses', 'roomNumber': '304', 'floor': '2', 'members': ['Alyssa Awti'], 'class': 'nan'}, {'title': 'Rain Water Harvesting ', 'roomNumber': '304', 'floor': '2', 'members': ['Rumaisa k', 'Iqra Shaikh'], 'class': 'nan'}, {'title': 'Acid Rain & Electric Car', 'roomNumber': '304', 'floor': '2', 'members': ['Himashu', 'Ved'], 'class': 'nan'}, {'title': 'Dream City', 'roomNumber': '304', 'floor': '2', 'members': ['Lakshya', 'Soham', 'Ayush B', 'Taksh', 'Eshan'], 'class': 'nan'}, {'title': 'Photosynthesis ', 'roomNumber': '306', 'floor': '2', 'members': ['Darsh Rajpurohit', 'Rutwik Attarde', 'Yash Mahajan', 'Nakshtra Bankhele', 'mandar', 'Advik Saboo'], 'class': 'nan'}, {'title': 'Solar Drip Irrigation', 'roomNumber': '306', 'floor': '2', 'members': ['Bhuvan Kurmapu'], 'class': 'nan'}, {'title': 'Water Cycle', 'roomNumber': '306', 'floor': '2', 'members': ['Sharanya Pawar'], 'class': 'nan'}, {'title': 'Water purification', 'roomNumber': '306', 'floor': '2', 'members': ['Siddharth Kotkar'], 'class': 'nan'}, {'title': 'Land Pollution', 'roomNumber': '306', 'floor': '2', 'members': ['Urvish Bhanarkar'], 'class': 'nan'}, {'title': 'Automic Structure', 'roomNumber': '306', 'floor': '2', 'members': ['Rudra Karhale', 'Vaishwik Dabhade', 'Ayush Karhale', 'Tanay Desai', 'Sushanth Surendran'], 'class': 'nan'}, {'title': 'Aviation ICT', 'roomNumber': '306', 'floor': '2', 'members': ['Avavy Warierr', 'Samyak Jadhav', 'Aditya Singh', 'Shavan Nambiar'], 'class': 'nan'}, {'title': 'Rain Water Harvesting ', 'roomNumber': '306', 'floor': '2', 'members': ['Mehek Shaikh', 'Zenia Shaikh'], 'class': 'nan'}, {'title': 'Water Cycle', 'roomNumber': '306', 'floor': '2', 'members': ['Dishita Verma', 'Indransh Wadaskar'], 'class': 'nan'}, {'title': 'Hydrolic Arm', 'roomNumber': '307', 'floor': '2', 'members': ['On Shelke'], 'class': 'VI -  Y'}, {'title': 'DNA Model', 'roomNumber': '307', 'floor': '2', 'members': ['Alisha Naikvde', 'Sanvi Kolekar', 'Karan Mhaske', 'Anaya Chidgoptra', 'Iqra Khan'], 'class': 'IX'}, {'title': 'Magnetic Car', 'roomNumber': '307', 'floor': '2', 'members': ['Varad Rane', 'sarhak Jadhav'], 'class': 'VII - K'}, {'title': 'Brain And Stress', 'roomNumber': '307', 'floor': '2', 'members': ['Nandan Nair', 'ShreyaPawar', 'Ayush Hagwane'], 'class': 'IX - G'}, {'title': 'Parts of Plants', 'roomNumber': '307', 'floor': '2', 'members': ['Pranav Morale'], 'class': 'III -N'}, {'title': 'Wind Energy', 'roomNumber': '307', 'floor': '2', 'members': ['Mrunal Londhe'], 'class': 'VII - y'}, {'title': ' Advance Water Cycle', 'roomNumber': '307', 'floor': '2', 'members': ['Shrut Dodal', 'Devesh Patil', 'Shreyas belkhede'], 'class': 'VII - Y'}, {'title': 'Thermoeectric generator', 'roomNumber': '307', 'floor': '2', 'members': ['Shreyash Hosdodde', 'Sujay Belkhede', '', 'Ayaan Shammand', 'Soham Mahajan', 'Vedant Mahajan'], 'class': 'VII - G'}, {'title': 'Hydrolic Bridge', 'roomNumber': '307', 'floor': '2', 'members': ['Kaushal Kumbhar'], 'class': 'VIII- G'}, {'title': 'Mechanical Hand', 'roomNumber': '307', 'floor': '2', 'members': ['Swaraj'], 'class': 'VIII- G'}, {'title': 'Hydroelectricity', 'roomNumber': '307', 'floor': '2', 'members': ['Venkatesh', 'Nikunj', 'Kaustubh'], 'class': 'VIII- G'}, {'title': 'Irrigation Process', 'roomNumber': '308', 'floor': '2', 'members': ['Zaid Patwari'], 'class': 'nan'}, {'title': 'Aqua vision Insight', 'roomNumber': '308', 'floor': '2', 'members': ['Aryan Wani', 'Shubh Mehta', 'Shreyas Ulli', 'Akhilesh Kulkarni', 'Swaraj Biradar'], 'class': 'nan'}, {'title': 'Hydrolic Power- Crane', 'roomNumber': '308', 'floor': '2', 'members': ['Prethamprakash Jha', 'Sohan Das', 'Prayoj Savale', 'Tanmay Patil'], 'class': 'nan'}, {'title': 'Water Pollution', 'roomNumber': '308', 'floor': '2', 'members': ['Rishita Mude'], 'class': 'nan'}, {'title': 'Air Land Water Pollution', 'roomNumber': '308', 'floor': '2', 'members': ['Sankruti Kerkar', 'Aarohi Patil'], 'class': 'nan'}, {'title': 'Wind Energy ', 'roomNumber': '308', 'floor': '2', 'members': ['Jiya Parikh', 'Vedika Ware', 'Niyati Goankar'], 'class': 'nan'}, {'title': 'Third Eye for the Blind', 'roomNumber': '308', 'floor': '2', 'members': ['Spandan Busari', 'Chinmay Mahajan', 'Varun Mishra', 'Saifan Shaikh'], 'class': 'nan'}, {'title': 'Harvesting of Solar Energy', 'roomNumber': '308', 'floor': '2', 'members': ['Rocky Zakulla', 'Brijesh Garg', 'Jainesh Shah', 'Hardik Pandita'], 'class': 'nan'}, {'title': 'Plant Environmental Base', 'roomNumber': '308', 'floor': '2', 'members': ['Anushree Dixit', 'Samruddhi Kulkarni', 'Aradhya Kumar'], 'class': 'nan'}, {'title': 'Groundwater Recharge', 'roomNumber': '308', 'floor': '2', 'members': ['Sakshi Choudhary'], 'class': 'nan'}, {'title': 'Water Cycle', 'roomNumber': '308', 'floor': '2', 'members': ['Tanush Patil'], 'class': 'nan'}, {'title': 'Augmented Reality', 'roomNumber': '310', 'floor': '2', 'members': ['Ayush Borade', 'Shreya Podar', 'Nrija Borade', 'R Sarvesh Raghv', 'Archit Gawande'], 'class': 'nan'}, {'title': 'Dencity Tower', 'roomNumber': '310', 'floor': '2', 'members': ['Shubhangi Karmakar'], 'class': 'nan'}, {'title': 'Rainbow Swirl', 'roomNumber': '310', 'floor': '2', 'members': ['Ziya Mulani'], 'class': 'nan'}, {'title': 'Rain Cloud', 'roomNumber': '310', 'floor': '2', 'members': ['Kruti Baveshi'], 'class': 'nan'}, {'title': 'Elephant Tootpaste', 'roomNumber': '310', 'floor': '2', 'members': ['Janvi Shewale'], 'class': 'nan'}, {'title': 'Hockey Magnetic Game', 'roomNumber': '310', 'floor': '2', 'members': ['Yash Purigosavi'], 'class': 'nan'}, {'title': 'Hydrolic Open Bridge', 'roomNumber': '310', 'floor': '2', 'members': ['Vedic Sharma'], 'class': 'nan'}, {'title': 'Wi-Fi- Car', 'roomNumber': '310', 'floor': '2', 'members': ['Soham Gore'], 'class': 'nan'}, {'title': 'Crossword Puzzle', 'roomNumber': '310', 'floor': '2', 'members': ['Mehal Suvarna', 'Saee Misal'], 'class': 'nan'}, {'title': 'Chandrayan -3', 'roomNumber': '310', 'floor': '2', 'members': ['Ana Hashmi'], 'class': 'nan'}, {'title': 'Tydall Effect', 'roomNumber': '310', 'floor': '2', 'members': ['Swaroop Gijare', 'Aditya Kotkar'], 'class': 'nan'}, {'title': 'Trafic Light Quiz', 'roomNumber': '310', 'floor': '2', 'members': ['Kairav Kyan Pukan', 'Chinmay Kelkar'], 'class': 'nan'}, {'title': 'AI Based Desktop App', 'roomNumber': '310', 'floor': '2', 'members': ['Param Chavan'], 'class': 'nan'}, {'title': 'Smart Trashbin', 'roomNumber': '310', 'floor': '2', 'members': ['Nichay Shiva'], 'class': 'nan'}, {'title': 'Chandrayan -3', 'roomNumber': '311', 'floor': '2', 'members': ['Aditi Kamat'], 'class': 'nan'}, {'title': 'Rainwater Harvesting', 'roomNumber': '311', 'floor': '2', 'members': ['Shagufta Mulani'], 'class': 'nan'}, {'title': 'Solar and Lunar Eclips', 'roomNumber': '311', 'floor': '2', 'members': ['Praharshita Naik', 'Aarna Aswar', 'Ditya Choudhary'], 'class': 'nan'}, {'title': 'Solar System', 'roomNumber': '311', 'floor': '2', 'members': ['Yadvi Alva', 'Asmita Chavan'], 'class': 'nan'}, {'title': 'Pragyan Rover / 3D Atom Structure', 'roomNumber': '311', 'floor': '2', 'members': ['Harsh Ganjare', 'Kaivalya Suryawanshi', 'Satyam Thakur', 'Sarthak Wadaskar', 'Amog Gondkar'], 'class': 'nan'}, {'title': 'Vikram Lander', 'roomNumber': '311', 'floor': '2', 'members': ['Digvijay More', 'Vishwajeet More', 'Azim Khan', 'Anas Choudhary'], 'class': 'nan'}, {'title': 'Hydrophonics', 'roomNumber': '410', 'floor': '3', 'members': ['Soham Kadu', 'Amogh Gondkar', 'Kalash Bhandari'], 'class': 'IX Y'}, {'title': 'The Hologram', 'roomNumber': '410', 'floor': '3', 'members': ['Kaushal Rane'], 'class': 'VI - K'}, {'title': 'Hologram', 'roomNumber': '410', 'floor': '3', 'members': ['Rifa Choudhary', 'Atharva Gandule'], 'class': 'IX -G'}, {'title': 'Human Respiratory System', 'roomNumber': '410', 'floor': '3', 'members': ['Shreyash Gager', 'Spandan Haldar', 'Avinash Suryawanshi'], 'class': 'VII - K'}, {'title': 'Projector', 'roomNumber': '410', 'floor': '3', 'members': ['Atharva Chede', 'Jay Gaikwad', 'Mohil More', 'Saket Shinde'], 'class': 'IX -Y'}, {'title': 'Mars Rover', 'roomNumber': '411', 'floor': '3', 'members': ['K Vinayak Shanboghe', 'Aditya Jena', 'Ishan Gajbhiye', 'Eshaan Shetty'], 'class': 'X'}, {'title': 'Rain Sensor', 'roomNumber': '411', 'floor': '3', 'members': ['Aditi Tripati', 'Anantika Modak', 'Shreya Singh', 'Sarayu Varier'], 'class': 'VIII-G'}, {'title': 'Hydroelectricity Generator', 'roomNumber': '411', 'floor': '3', 'members': ['Tanish Jadav', 'Kaustubh Gholap', 'Shourya Kharat'], 'class': 'IX -Y'}, {'title': 'Solar Panel Charger', 'roomNumber': '411', 'floor': '3', 'members': ['Rewa Panse'], 'class': 'VII-K'}, {'title': '3D Hologram', 'roomNumber': '411', 'floor': '3', 'members': ['Aditi Shahapurkar', 'Pranali More', 'Ovi Mulay', 'Shruti Karpe'], 'class': 'VII-G'}, {'title': 'FAN', 'roomNumber': '411', 'floor': '3', 'members': ['Vrunda Kulkarni', 'Sanika Katri', 'Aaradhya'], 'class': 'VII-G'}, {'title': 'Slar Energy', 'roomNumber': '411', 'floor': '3', 'members': ['Akshit Tigote'], 'class': 'VII-K'}, {'title': 'RC Bluetooth Car', 'roomNumber': '411', 'floor': '3', 'members': ['Sri charan M'], 'class': 'X-Y'}]\n"
     ]
    }
   ],
   "source": [
    "projects = []\n",
    "for index, row in df.iterrows():\n",
    "    projects.append({\n",
    "        \"title\": row[\"Project Name\"],\n",
    "        \"roomNumber\": str(row[\"Room No\"]),\n",
    "        \"floor\": str(int(str(row[\"Room No\"])[0]) - 1),\n",
    "        \"members\": str(row[\"Student Name\"]).split(\",\"),\n",
    "        \"class\": str(row[\"Class\"])\n",
    "    })\n",
    "    for i in range(len(projects[-1][\"members\"])):\n",
    "        projects[-1][\"members\"][i] = projects[-1][\"members\"][i].strip()\n",
    "\n",
    "# Loop through all projects\n",
    "newProjects = []\n",
    "for project in projects:\n",
    "    # If the \"title\" field is empty or is NaN and the room number and floor are the same as the last entry, add the names of the members to the last project\n",
    "    # Else, add the project to the list of projects\n",
    "    if len(newProjects) > 0 and (project[\"title\"] in [\"\", \"\"] or type(project[\"title\"]) == float) and project[\"roomNumber\"] == newProjects[-1][\"roomNumber\"] and project[\"floor\"] == newProjects[-1][\"floor\"]:\n",
    "        newProjects[-1][\"members\"] += project[\"members\"]\n",
    "    else:\n",
    "        newProjects.append(project)\n",
    "projects = newProjects\n",
    "print(projects)"
   ]
  },
  {
   "cell_type": "code",
   "execution_count": 12,
   "metadata": {},
   "outputs": [],
   "source": [
    "# Now save to json\n",
    "import json\n",
    "with open('edata.json', 'w') as outfile:\n",
    "    json.dump({\n",
    "        \"floors\": floors,\n",
    "        \"rooms\": rooms,\n",
    "        \"projects\": projects,    \n",
    "    }, outfile, indent=4)"
   ]
  },
  {
   "cell_type": "code",
   "execution_count": 13,
   "metadata": {},
   "outputs": [
    {
     "name": "stdout",
     "output_type": "stream",
     "text": [
      "178\n"
     ]
    }
   ],
   "source": [
    "print(len(projects))"
   ]
  }
 ],
 "metadata": {
  "kernelspec": {
   "display_name": "Python 3",
   "language": "python",
   "name": "python3"
  },
  "language_info": {
   "codemirror_mode": {
    "name": "ipython",
    "version": 3
   },
   "file_extension": ".py",
   "mimetype": "text/x-python",
   "name": "python",
   "nbconvert_exporter": "python",
   "pygments_lexer": "ipython3",
   "version": "3.11.5"
  },
  "orig_nbformat": 4
 },
 "nbformat": 4,
 "nbformat_minor": 2
}
