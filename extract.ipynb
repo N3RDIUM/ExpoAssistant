{
 "cells": [
  {
   "cell_type": "code",
   "execution_count": 5,
   "metadata": {},
   "outputs": [
    {
     "name": "stdout",
     "output_type": "stream",
     "text": [
      "Requirement already satisfied: pandas in ./.venv/lib/python3.11/site-packages (2.1.0)\n",
      "Requirement already satisfied: numpy>=1.23.2 in ./.venv/lib/python3.11/site-packages (from pandas) (1.25.2)\n",
      "Requirement already satisfied: python-dateutil>=2.8.2 in ./.venv/lib/python3.11/site-packages (from pandas) (2.8.2)\n",
      "Requirement already satisfied: pytz>=2020.1 in ./.venv/lib/python3.11/site-packages (from pandas) (2023.3)\n",
      "Requirement already satisfied: tzdata>=2022.1 in ./.venv/lib/python3.11/site-packages (from pandas) (2023.3)\n",
      "Requirement already satisfied: six>=1.5 in ./.venv/lib/python3.11/site-packages (from python-dateutil>=2.8.2->pandas) (1.16.0)\n",
      "Note: you may need to restart the kernel to use updated packages.\n",
      "   Sr. No  Room No            Project Name                   Student Name  \\\n",
      "0     1.0      201         Photosynthesis        Prabhir M ,  Soham pawar   \n",
      "1     2.0      201               Wind Mill                      Gautham A   \n",
      "2     3.0      201         Drip Irrigation         Shlok, Sparsh, Sarvesh   \n",
      "3     4.0      201  Rain Water Harvesting                    Akshkumar G.   \n",
      "4     5.0      201        Digestive System  Vedika, Ira, Parnika, Sanvi B   \n",
      "\n",
      "  Class  \n",
      "0   NaN  \n",
      "1   NaN  \n",
      "2   NaN  \n",
      "3   NaN  \n",
      "4   NaN  \n"
     ]
    }
   ],
   "source": [
    "%pip install pandas\n",
    "import pandas as pd\n",
    "df = pd.read_csv('edata.csv')\n",
    "print(df.head())"
   ]
  },
  {
   "cell_type": "code",
   "execution_count": 6,
   "metadata": {},
   "outputs": [
    {
     "name": "stdout",
     "output_type": "stream",
     "text": [
      "['2', '3', '4'] ['201', '204', '205', '206', '207', '208', '209', '210', '211', '301', '304', '306', '307', '308', '310', '311', '410', '411']\n"
     ]
    }
   ],
   "source": [
    "_rooms = df[\"Room No\"]\n",
    "rooms = []\n",
    "for room in _rooms:\n",
    "    if not str(room) in rooms:\n",
    "        rooms.append(str(room))\n",
    "floors = []\n",
    "for room in rooms:\n",
    "    if not room[0] in floors:\n",
    "        floors.append(room[0])\n",
    "print(floors, rooms)"
   ]
  },
  {
   "cell_type": "code",
   "execution_count": 7,
   "metadata": {},
   "outputs": [],
   "source": [
    "topics = []"
   ]
  },
  {
   "cell_type": "code",
   "execution_count": 9,
   "metadata": {},
   "outputs": [
    {
     "name": "stdout",
     "output_type": "stream",
     "text": [
      "[{'title': 'Photosynthesis ', 'roomNumber': '201', 'floor': '2', 'members': ['Prabhir M', 'Soham pawar'], 'class': 'nan'}, {'title': 'Wind Mill', 'roomNumber': '201', 'floor': '2', 'members': ['Gautham A'], 'class': 'nan'}, {'title': 'Drip Irrigation', 'roomNumber': '201', 'floor': '2', 'members': ['Shlok', 'Sparsh', 'Sarvesh'], 'class': 'nan'}, {'title': 'Rain Water Harvesting ', 'roomNumber': '201', 'floor': '2', 'members': ['Akshkumar G.'], 'class': 'nan'}, {'title': 'Digestive System', 'roomNumber': '201', 'floor': '2', 'members': ['Vedika', 'Ira', 'Parnika', 'Sanvi B'], 'class': 'nan'}, {'title': 'Types of Pollution', 'roomNumber': '201', 'floor': '2', 'members': ['Ayan Hashmi'], 'class': 'nan'}, {'title': 'Parts of Plants', 'roomNumber': '201', 'floor': '2', 'members': ['Rubeen', 'Gautam', 'Ganesh G.'], 'class': 'nan'}, {'title': 'Water Cycle', 'roomNumber': '201', 'floor': '2', 'members': ['Parth'], 'class': 'nan'}, {'title': 'Rain Water Harvesting ', 'roomNumber': '201', 'floor': '2', 'members': ['Ganesh Ghodke', 'Ganesh M', 'Ojas', 'Hardik', 'Nachiket'], 'class': 'nan'}, {'title': 'Types of Houses', 'roomNumber': '201', 'floor': '2', 'members': ['Nishi G & Anaghya'], 'class': 'nan'}, {'title': 'Water Cycle', 'roomNumber': '204', 'floor': '2', 'members': ['Aradhya Ogale'], 'class': 'III-G'}, {'title': 'Parts of Plants', 'roomNumber': '204', 'floor': '2', 'members': ['Ridhisha Bhvaskar'], 'class': 'III-G'}, {'title': 'Parts of Plants', 'roomNumber': '204', 'floor': '2', 'members': ['Tanvi Mane'], 'class': 'III- K'}, {'title': 'Types of Houses', 'roomNumber': '204', 'floor': '2', 'members': ['inaaya Choudhary'], 'class': 'III - Y'}, {'title': 'Parts of Plants', 'roomNumber': '204', 'floor': '2', 'members': ['pranvi Gadekar'], 'class': 'III- G'}, {'title': 'Global Warming', 'roomNumber': '204', 'floor': '2', 'members': ['Shreya', 'Vedashri', 'Siddhi', 'swarda'], 'class': 'V- G'}, {'title': 'Solar Agriculture Irrigation', 'roomNumber': '204', 'floor': '2', 'members': ['Swayam Jangave'], 'class': 'VI - G'}, {'title': 'Mechanical Energy', 'roomNumber': '204', 'floor': '2', 'members': ['Silki Shah', 'Simran R', ''], 'class': 'VII - K'}, {'title': 'Automic Structure', 'roomNumber': '204', 'floor': '2', 'members': ['Atharv Mapari'], 'class': 'VII -K'}, {'title': 'Earthquake Detector', 'roomNumber': '204', 'floor': '2', 'members': ['Pankaj Sutar'], 'class': 'VII - K'}, {'title': 'Human Heart working model', 'roomNumber': '204', 'floor': '2', 'members': ['1. Krishna malpani'], 'class': 'VII - K'}, {'title': 'Biogas Plant', 'roomNumber': '204', 'floor': '2', 'members': ['Shlok Joshi', 'Siddhesh Patil'], 'class': 'VII - K'}, {'title': 'Rain Water Harvesting ', 'roomNumber': '204', 'floor': '2', 'members': ['Darsh Mehta'], 'class': 'V -N'}, {'title': 'Types of Houses', 'roomNumber': '205', 'floor': '2', 'members': ['Anvi Jirafe'], 'class': 'nan'}, {'title': 'Global Warming', 'roomNumber': '205', 'floor': '2', 'members': ['Aishwaerya', 'Sidheshwari'], 'class': 'nan'}, {'title': 'Rain Water Harvesting ', 'roomNumber': '205', 'floor': '2', 'members': ['Anvit', 'Piyush', 'Prathmesh', 'Tanay'], 'class': 'nan'}, {'title': 'Solar Energy', 'roomNumber': '205', 'floor': '2', 'members': ['Gargi Age'], 'class': 'nan'}, {'title': 'Renewable Energy', 'roomNumber': '205', 'floor': '2', 'members': ['Atharv Jirafe'], 'class': 'nan'}, {'title': 'Types of Houses', 'roomNumber': '205', 'floor': '2', 'members': ['Siddhant Mane'], 'class': 'nan'}, {'title': 'Villege And City', 'roomNumber': '205', 'floor': '2', 'members': ['raghav', 'Vinay'], 'class': 'nan'}, {'title': 'Electricity come to house', 'roomNumber': '205', 'floor': '2', 'members': ['Vihan', 'viraj C.', 'Adrash', 'Vinay'], 'class': 'nan'}, {'title': 'Drip irrigation', 'roomNumber': '205', 'floor': '2', 'members': ['Varad Mali', 'Swaraj P.'], 'class': 'nan'}, {'title': 'Types of Houses', 'roomNumber': '205', 'floor': '2', 'members': ['Ananya Gupta'], 'class': 'III'}, {'title': 'Types of Houses ( igloo)', 'roomNumber': '205', 'floor': '2', 'members': ['Yogita C.'], 'class': 'III-N'}, {'title': 'Mini Cooler', 'roomNumber': '205', 'floor': '2', 'members': ['Aditya mahajan'], 'class': 'VI - Y'}, {'title': 'Parts of Plants', 'roomNumber': '206', 'floor': '2', 'members': ['Hrudya', 'Harshada'], 'class': 'III'}, {'title': 'Food Pyramid', 'roomNumber': '206', 'floor': '2', 'members': ['Rajveer'], 'class': 'III-N'}, {'title': 'Wind Mill', 'roomNumber': '206', 'floor': '2', 'members': ['Dhruv', 'Preetam G'], 'class': 'VI- Y'}, {'title': 'Wind Mill', 'roomNumber': '206', 'floor': '2', 'members': ['nan'], 'class': 'nan'}, {'title': 'Solar Panel', 'roomNumber': '206', 'floor': '2', 'members': ['Priansh M'], 'class': 'IV -G'}, {'title': 'Solar System', 'roomNumber': '206', 'floor': '2', 'members': ['Aarohi Shinde'], 'class': 'III'}, {'title': 'Solar Energy', 'roomNumber': '206', 'floor': '2', 'members': ['Sanskriti', 'Sanchi', 'Sanvi', 'Siddhi'], 'class': 'VI'}, {'title': 'Global Warming', 'roomNumber': '206', 'floor': '2', 'members': ['Arnav Wagh'], 'class': 'V - Y'}, {'title': 'Washing Machine', 'roomNumber': '206', 'floor': '2', 'members': ['Vedank mahajan'], 'class': 'VI- K'}, {'title': 'Lungs ', 'roomNumber': '206', 'floor': '2', 'members': ['Kshitij'], 'class': 'VI - K'}, {'title': 'Wet Waste Compost', 'roomNumber': '206', 'floor': '2', 'members': ['Arnav Suthar'], 'class': 'VI - K'}, {'title': 'Rain Water Harvesting ', 'roomNumber': '206', 'floor': '2', 'members': ['Dikshit Tayade'], 'class': 'V -K'}, {'title': 'Rain Water Harvesting ', 'roomNumber': '206', 'floor': '2', 'members': ['Kruti S.'], 'class': 'V - N'}, {'title': 'Rain Water Harvesting ', 'roomNumber': '207', 'floor': '2', 'members': ['Roshni', 'Dnyanda', 'saisha'], 'class': 'VI - G'}, {'title': 'Land pollution', 'roomNumber': '207', 'floor': '2', 'members': ['Akshara Deo'], 'class': 'IV - k'}, {'title': 'Water purification', 'roomNumber': '207', 'floor': '2', 'members': ['Sparsh', 'Rujul'], 'class': 'IV - k'}, {'title': 'Rain Water Harvesting ', 'roomNumber': '207', 'floor': '2', 'members': ['Arnav Pisal'], 'class': 'V - Y'}, {'title': 'Water purification', 'roomNumber': '207', 'floor': '2', 'members': ['Shrisha', 'Kirti', 'Arohi', 'Shruti'], 'class': 'IV - k'}, {'title': 'Parts of Plants', 'roomNumber': '207', 'floor': '2', 'members': ['Divanka Dere'], 'class': 'III -K'}, {'title': 'Rain Water Harvesting ', 'roomNumber': '207', 'floor': '2', 'members': ['Atharva Sharma'], 'class': 'V- G'}, {'title': 'Rain Water Harvesting ', 'roomNumber': '207', 'floor': '2', 'members': ['Roshni', 'Shreya', 'Aksha', 'Pratiksha'], 'class': 'V - K'}, {'title': 'Water Using Solar Energy', 'roomNumber': '207', 'floor': '2', 'members': ['Sahil', 'Kartik', 'Arav', 'A', 'Qureshi'], 'class': 'VI - G'}, {'title': 'Solar Energy', 'roomNumber': '208', 'floor': '2', 'members': ['Samrth', 'Ashutish', 'Atharv'], 'class': 'nan'}, {'title': 'Types of houses', 'roomNumber': '208', 'floor': '2', 'members': ['Piyush Lele'], 'class': 'nan'}, {'title': 'Water purification', 'roomNumber': '208', 'floor': '2', 'members': ['Kavya Kavade'], 'class': 'Iv - k'}, {'title': 'Water Cycle', 'roomNumber': '208', 'floor': '2', 'members': ['Pihu Dixit'], 'class': 'nan'}, {'title': 'Solarc Energy', 'roomNumber': '208', 'floor': '2', 'members': ['Durva Joshi'], 'class': 'VI - G'}, {'title': 'Photosynthesis ', 'roomNumber': '208', 'floor': '2', 'members': ['Harshit B.'], 'class': 'IV - N'}, {'title': 'Parts of Plants', 'roomNumber': '208', 'floor': '2', 'members': ['Tanishka'], 'class': 'III - G'}, {'title': 'Types of Houses (house boat)', 'roomNumber': '208', 'floor': '2', 'members': ['Garv Shah'], 'class': 'III - Y'}, {'title': 'Eco Friendly houses', 'roomNumber': '208', 'floor': '2', 'members': ['Avanish'], 'class': 'V- N'}, {'title': 'Natural Resources', 'roomNumber': '208', 'floor': '2', 'members': ['Vedant jirafe'], 'class': 'III - N'}, {'title': 'Water Cycle', 'roomNumber': '208', 'floor': '2', 'members': ['Sanvi U.'], 'class': 'III -N'}, {'title': 'Types of houses', 'roomNumber': '208', 'floor': '2', 'members': ['Avneesh Roy'], 'class': 'III - Y'}, {'title': 'Vikram Lander', 'roomNumber': '208', 'floor': '2', 'members': ['Yuvraj', 'Shrvil', 'Aman', 'Arshan', 'Sngram'], 'class': 'VII'}, {'title': 'Types of Pollution', 'roomNumber': '208', 'floor': '2', 'members': ['Saanvi', 'Siya', 'Spruha'], 'class': 'nan'}, {'title': 'Types of houses', 'roomNumber': '209', 'floor': '2', 'members': ['Sharvi Harkare'], 'class': 'III - K'}, {'title': 'Science behid biodegration', 'roomNumber': '209', 'floor': '2', 'members': ['Nakshatra', 'Adwita', 'puri', 'krishna priya P.'], 'class': 'IX - G'}, {'title': 'ATM', 'roomNumber': '209', 'floor': '2', 'members': ['Ayesha', 'Ramsha'], 'class': 'VI - K'}, {'title': 'Photosynthesis ', 'roomNumber': '209', 'floor': '2', 'members': ['Shreeyash', 'Tejas'], 'class': 'IV - N'}, {'title': 'Parts of Plants', 'roomNumber': '209', 'floor': '2', 'members': ['Sanvi', 'Paridhi'], 'class': 'III - K'}, {'title': 'Photosynthesis ', 'roomNumber': '209', 'floor': '2', 'members': ['Vedanti', 'Aradhya', 'Akshita'], 'class': 'IV-  Y'}, {'title': 'Global Warming', 'roomNumber': '209', 'floor': '2', 'members': ['Farhan Shaikh'], 'class': 'V -G'}, {'title': 'Types of irrigation', 'roomNumber': '209', 'floor': '2', 'members': ['Tanvi Dulha'], 'class': 'V- N'}, {'title': 'Air Pollution', 'roomNumber': '209', 'floor': '2', 'members': ['Ishan Sonawane'], 'class': 'IV - N'}, {'title': 'Rain Detector', 'roomNumber': '209', 'floor': '2', 'members': ['Sai Dhakane'], 'class': 'VI - Y'}, {'title': 'Hydrolic Arm', 'roomNumber': '209', 'floor': '2', 'members': ['kuber Nandagaon'], 'class': 'VI -Y'}, {'title': 'Water Cycle', 'roomNumber': '209', 'floor': '2', 'members': ['Myra Jamdar'], 'class': 'III - Y'}, {'title': 'Land pollution', 'roomNumber': '209', 'floor': '2', 'members': ['Veeha', 'Shreya'], 'class': 'nan'}, {'title': 'Innovation method of Recycle', 'roomNumber': '210', 'floor': '2', 'members': ['Mohammed Kolhar'], 'class': 'V- N'}, {'title': 'Water Cycle', 'roomNumber': '210', 'floor': '2', 'members': ['Sharanya roy'], 'class': 'III - K'}, {'title': 'Rain Water Harvesting ', 'roomNumber': '210', 'floor': '2', 'members': ['Ruchi', 'Saiyam', 'Vansh', ''], 'class': 'V -G'}, {'title': 'Rain Water Harvesting ', 'roomNumber': '210', 'floor': '2', 'members': ['Divya Agarwal'], 'class': 'V -K'}, {'title': 'Global Warming', 'roomNumber': '210', 'floor': '2', 'members': ['Lavanya More'], 'class': 'V -K'}, {'title': 'Air pollution', 'roomNumber': '210', 'floor': '2', 'members': ['Arpita Mishra'], 'class': 'IV - N'}, {'title': 'Food Pyramid', 'roomNumber': '210', 'floor': '2', 'members': ['Arnavi Acharekar'], 'class': 'III - Y'}, {'title': 'Acid Rain', 'roomNumber': '210', 'floor': '2', 'members': ['Shrisha', 'Arya', 'Prajkta', 'Ananya', 'komal'], 'class': 'VII -K'}, {'title': 'Global Warming', 'roomNumber': '210', 'floor': '2', 'members': ['Ayush', 'Amnthan'], 'class': 'V -K'}, {'title': 'Water Pollition', 'roomNumber': '210', 'floor': '2', 'members': ['Zayan Naseer Bhat', 'Sarthak Shinde'], 'class': 'IV-N'}, {'title': 'Water Cycle', 'roomNumber': '211', 'floor': '2', 'members': ['Freeha Shaikh'], 'class': 'III -G'}, {'title': 'Global Warming', 'roomNumber': '211', 'floor': '2', 'members': ['Safwan Khan'], 'class': 'V -N'}, {'title': 'Food Chain', 'roomNumber': '211', 'floor': '2', 'members': ['Shruti Gaikwad'], 'class': 'V -G'}, {'title': 'Water Cycle', 'roomNumber': '211', 'floor': '2', 'members': ['Kiah Shah'], 'class': 'III - Y'}, {'title': 'Agro forestry-Ecology with economy', 'roomNumber': '211', 'floor': '2', 'members': ['Priya G. Prisha B. Aushri  M', 'Aditi N'], 'class': 'nan'}, {'title': 'Rain Water Harvesting ', 'roomNumber': '211', 'floor': '2', 'members': ['Vivaa'], 'class': 'nan'}, {'title': 'Types of houses', 'roomNumber': '211', 'floor': '2', 'members': ['Hridaan Totale'], 'class': 'nan'}, {'title': 'Types of houses', 'roomNumber': '211', 'floor': '2', 'members': ['nan'], 'class': 'nan'}, {'title': 'Types of Irrigation', 'roomNumber': '301', 'floor': '3', 'members': ['Yashwini Baviskar', 'Dhyani Patel', 'Aahna Rajgor', 'Aadya Kamatkar'], 'class': 'nan'}, {'title': 'Dam & Drip Irrigation', 'roomNumber': '301', 'floor': '3', 'members': ['Anushree K', 'Chinmayi'], 'class': 'nan'}, {'title': 'Food Pyramid', 'roomNumber': '301', 'floor': '3', 'members': ['Dhruvi Agrawal'], 'class': 'nan'}, {'title': 'Innovative ideas for Lightning', 'roomNumber': '301', 'floor': '3', 'members': ['Anandi Vispute', 'Aradhana Mane', 'Riddhiee Mahajan', 'Aditi Jaiswal'], 'class': 'nan'}, {'title': 'Hologram', 'roomNumber': '301', 'floor': '3', 'members': ['Shreyas Karpe', 'Arnav Suryawanshi', 'Yash Jadhav', 'Aryan Wagh', 'Piyush Bhosale'], 'class': 'nan'}, {'title': 'Global Warming', 'roomNumber': '301', 'floor': '3', 'members': ['Raunak Desai'], 'class': 'nan'}, {'title': 'Water Conservation', 'roomNumber': '301', 'floor': '3', 'members': ['Mahi M', 'Smriti M', 'Niya'], 'class': 'nan'}, {'title': 'Air Pollution', 'roomNumber': '304', 'floor': '3', 'members': ['Aatish', 'Aditya', 'Keval'], 'class': 'nan'}, {'title': 'Types of houses', 'roomNumber': '304', 'floor': '3', 'members': ['Alyssa Awti'], 'class': 'nan'}, {'title': 'Rain Water Harvesting ', 'roomNumber': '304', 'floor': '3', 'members': ['Rumaisa k', 'Iqra Shaikh'], 'class': 'nan'}, {'title': 'Acid Rain & Electric Car', 'roomNumber': '304', 'floor': '3', 'members': ['Himashu', 'Ved'], 'class': 'nan'}, {'title': 'Dream City', 'roomNumber': '304', 'floor': '3', 'members': ['Lakshya', 'Soham', 'Ayush B', 'Taksh', 'Eshan'], 'class': 'nan'}, {'title': 'Photosynthesis ', 'roomNumber': '306', 'floor': '3', 'members': ['Darsh Rajpurohit', 'Rutwik Attarde', 'Yash Mahajan', 'Nakshtra Bankhele', 'mandar', 'Advik Saboo'], 'class': 'nan'}, {'title': 'Solar Drip Irrigation', 'roomNumber': '306', 'floor': '3', 'members': ['Bhuvan Kurmapu'], 'class': 'nan'}, {'title': 'Water Cycle', 'roomNumber': '306', 'floor': '3', 'members': ['Sharanya Pawar'], 'class': 'nan'}, {'title': 'Water purification', 'roomNumber': '306', 'floor': '3', 'members': ['Siddharth Kotkar'], 'class': 'nan'}, {'title': 'Land Pollution', 'roomNumber': '306', 'floor': '3', 'members': ['Urvish Bhanarkar'], 'class': 'nan'}, {'title': 'Automic Structure', 'roomNumber': '306', 'floor': '3', 'members': ['Rudra Karhale', 'Vaishwik Dabhade', 'Ayush Karhale', 'Tanay Desai', 'Sushanth Surendran'], 'class': 'nan'}, {'title': 'Aviation ICT', 'roomNumber': '306', 'floor': '3', 'members': ['Avavy Warierr', 'Samyak Jadhav', 'Aditya Singh', 'Shavan Nambiar'], 'class': 'nan'}, {'title': 'Rain Water Harvesting ', 'roomNumber': '306', 'floor': '3', 'members': ['Mehek Shaikh', 'Zenia Shaikh'], 'class': 'nan'}, {'title': 'Water Cycle', 'roomNumber': '306', 'floor': '3', 'members': ['Dishita Verma', 'Indransh Wadaskar'], 'class': 'nan'}, {'title': 'Hydrolic Arm', 'roomNumber': '307', 'floor': '3', 'members': ['On Shelke'], 'class': 'VI -  Y'}, {'title': 'DNA Model', 'roomNumber': '307', 'floor': '3', 'members': ['Alisha Naikvde', 'Sanvi Kolekar', 'Karan Mhaske'], 'class': 'IX'}, {'title': nan, 'roomNumber': '307', 'floor': '3', 'members': ['Anaya Chidgoptra', 'Iqra Khan'], 'class': 'nan'}, {'title': 'Magnetic Car', 'roomNumber': '307', 'floor': '3', 'members': ['Varad Rane', 'sarhak Jadhav'], 'class': 'VII - K'}, {'title': 'Brain And Stress', 'roomNumber': '307', 'floor': '3', 'members': ['Nandan Nair', 'ShreyaPawar', 'Ayush Hagwane'], 'class': 'IX - G'}, {'title': 'Parts of Plants', 'roomNumber': '307', 'floor': '3', 'members': ['Pranav Morale'], 'class': 'III -N'}, {'title': 'Wind Energy', 'roomNumber': '307', 'floor': '3', 'members': ['Mrunal Londhe'], 'class': 'VII - y'}, {'title': ' Advance Water Cycle', 'roomNumber': '307', 'floor': '3', 'members': ['Shrut Dodal', 'Devesh Patil', 'Shreyas belkhede'], 'class': 'VII - Y'}, {'title': 'Thermoeectric generator', 'roomNumber': '307', 'floor': '3', 'members': ['Shreyash Hosdodde', 'Sujay Belkhede', ''], 'class': 'VII - G'}, {'title': nan, 'roomNumber': '307', 'floor': '3', 'members': ['Ayaan Shammand', 'Soham Mahajan', 'Vedant Mahajan'], 'class': 'nan'}, {'title': 'Hydrolic Bridge', 'roomNumber': '307', 'floor': '3', 'members': ['Kaushal Kumbhar'], 'class': 'VIII- G'}, {'title': 'Mechanical Hand', 'roomNumber': '307', 'floor': '3', 'members': ['Swaraj'], 'class': 'VIII- G'}, {'title': 'Hydroelectricity', 'roomNumber': '307', 'floor': '3', 'members': ['Venkatesh', 'Nikunj', 'Kaustubh'], 'class': 'VIII- G'}, {'title': 'Irrigation Process', 'roomNumber': '308', 'floor': '3', 'members': ['Zaid Patwari'], 'class': 'nan'}, {'title': 'Aqua vision Insight', 'roomNumber': '308', 'floor': '3', 'members': ['Aryan Wani', 'Shubh Mehta', 'Shreyas Ulli', 'Akhilesh Kulkarni', 'Swaraj Biradar'], 'class': 'nan'}, {'title': 'Hydrolic Power- Crane', 'roomNumber': '308', 'floor': '3', 'members': ['Prethamprakash Jha', 'Sohan Das', 'Prayoj Savale', 'Tanmay Patil'], 'class': 'nan'}, {'title': 'Water Pollution', 'roomNumber': '308', 'floor': '3', 'members': ['Rishita Mude'], 'class': 'nan'}, {'title': 'Air Land Water Pollution', 'roomNumber': '308', 'floor': '3', 'members': ['Sankruti Kerkar', 'Aarohi Patil'], 'class': 'nan'}, {'title': 'Wind Energy ', 'roomNumber': '308', 'floor': '3', 'members': ['Jiya Parikh', 'Vedika Ware', 'Niyati Goankar'], 'class': 'nan'}, {'title': 'Third Eye for the Blind', 'roomNumber': '308', 'floor': '3', 'members': ['Spandan Busari', 'Chinmay Mahajan', 'Varun Mishra', 'Saifan Shaikh'], 'class': 'nan'}, {'title': 'Harvesting of Solar Energy', 'roomNumber': '308', 'floor': '3', 'members': ['Rocky Zakulla'], 'class': 'nan'}, {'title': nan, 'roomNumber': '308', 'floor': '3', 'members': ['Brijesh Garg'], 'class': 'nan'}, {'title': nan, 'roomNumber': '308', 'floor': '3', 'members': ['Jainesh Shah'], 'class': 'nan'}, {'title': nan, 'roomNumber': '308', 'floor': '3', 'members': ['Hardik Pandita'], 'class': 'nan'}, {'title': 'Plant Environmental Base', 'roomNumber': '308', 'floor': '3', 'members': ['Anushree Dixit'], 'class': 'nan'}, {'title': nan, 'roomNumber': '308', 'floor': '3', 'members': ['Samruddhi Kulkarni'], 'class': 'nan'}, {'title': nan, 'roomNumber': '308', 'floor': '3', 'members': ['Aradhya Kumar'], 'class': 'nan'}, {'title': 'Groundwater Recharge', 'roomNumber': '308', 'floor': '3', 'members': ['Sakshi Choudhary'], 'class': 'nan'}, {'title': 'Water Cycle', 'roomNumber': '308', 'floor': '3', 'members': ['Tanush Patil'], 'class': 'nan'}, {'title': 'Augmented Reality', 'roomNumber': '310', 'floor': '3', 'members': ['Ayush Borade'], 'class': 'nan'}, {'title': nan, 'roomNumber': '310', 'floor': '3', 'members': ['Shreya Podar'], 'class': 'nan'}, {'title': nan, 'roomNumber': '310', 'floor': '3', 'members': ['Nrija Borade'], 'class': 'nan'}, {'title': nan, 'roomNumber': '310', 'floor': '3', 'members': ['R Sarvesh Raghv'], 'class': 'nan'}, {'title': nan, 'roomNumber': '310', 'floor': '3', 'members': ['Archit Gawande'], 'class': 'nan'}, {'title': 'Dencity Tower', 'roomNumber': '310', 'floor': '3', 'members': ['Shubhangi Karmakar'], 'class': 'nan'}, {'title': 'Rainbow Swirl', 'roomNumber': '310', 'floor': '3', 'members': ['Ziya Mulani'], 'class': 'nan'}, {'title': 'Rain Cloud', 'roomNumber': '310', 'floor': '3', 'members': ['Kruti Baveshi'], 'class': 'nan'}, {'title': 'Elephant Tootpaste', 'roomNumber': '310', 'floor': '3', 'members': ['Janvi Shewale'], 'class': 'nan'}, {'title': 'Hockey Magnetic Game', 'roomNumber': '310', 'floor': '3', 'members': ['Yash Purigosavi'], 'class': 'nan'}, {'title': 'Hydrolic Open Bridge', 'roomNumber': '310', 'floor': '3', 'members': ['Vedic Sharma'], 'class': 'nan'}, {'title': 'Wi-Fi- Car', 'roomNumber': '310', 'floor': '3', 'members': ['Soham Gore'], 'class': 'nan'}, {'title': 'Crossword Puzzle', 'roomNumber': '310', 'floor': '3', 'members': ['Mehal Suvarna'], 'class': 'nan'}, {'title': nan, 'roomNumber': '310', 'floor': '3', 'members': ['Saee Misal'], 'class': 'nan'}, {'title': 'Chandrayan -3', 'roomNumber': '310', 'floor': '3', 'members': ['Ana Hashmi'], 'class': 'nan'}, {'title': 'Tydall Effect', 'roomNumber': '310', 'floor': '3', 'members': ['Swaroop Gijare'], 'class': 'nan'}, {'title': nan, 'roomNumber': '310', 'floor': '3', 'members': ['Aditya Kotkar'], 'class': 'nan'}, {'title': 'Trafic Light Quiz', 'roomNumber': '310', 'floor': '3', 'members': ['Kairav Kyan Pukan'], 'class': 'nan'}, {'title': nan, 'roomNumber': '310', 'floor': '3', 'members': ['Chinmay Kelkar'], 'class': 'nan'}, {'title': 'AI Based Desktop App', 'roomNumber': '310', 'floor': '3', 'members': ['Param Chavan'], 'class': 'nan'}, {'title': 'Smart Trashbin', 'roomNumber': '310', 'floor': '3', 'members': ['Nichay Shiva'], 'class': 'nan'}, {'title': 'Chandrayan -3', 'roomNumber': '311', 'floor': '3', 'members': ['Aditi Kamat'], 'class': 'nan'}, {'title': 'Rainwater Harvesting', 'roomNumber': '311', 'floor': '3', 'members': ['Shagufta Mulani'], 'class': 'nan'}, {'title': 'Solar and Lunar Eclips', 'roomNumber': '311', 'floor': '3', 'members': ['Praharshita Naik'], 'class': 'nan'}, {'title': nan, 'roomNumber': '311', 'floor': '3', 'members': ['Aarna Aswar'], 'class': 'nan'}, {'title': nan, 'roomNumber': '311', 'floor': '3', 'members': ['Ditya Choudhary'], 'class': 'nan'}, {'title': 'Solar System', 'roomNumber': '311', 'floor': '3', 'members': ['Yadvi Alva'], 'class': 'nan'}, {'title': nan, 'roomNumber': '311', 'floor': '3', 'members': ['Asmita Chavan'], 'class': 'nan'}, {'title': 'Pragyan Rover / 3D Atom Structure', 'roomNumber': '311', 'floor': '3', 'members': ['Harsh Ganjare'], 'class': 'nan'}, {'title': nan, 'roomNumber': '311', 'floor': '3', 'members': ['Kaivalya Suryawanshi'], 'class': 'nan'}, {'title': nan, 'roomNumber': '311', 'floor': '3', 'members': ['Satyam Thakur'], 'class': 'nan'}, {'title': nan, 'roomNumber': '311', 'floor': '3', 'members': ['Sarthak Wadaskar'], 'class': 'nan'}, {'title': nan, 'roomNumber': '311', 'floor': '3', 'members': ['Amog Gondkar'], 'class': 'nan'}, {'title': 'Vikram Lander', 'roomNumber': '311', 'floor': '3', 'members': ['Digvijay More'], 'class': 'nan'}, {'title': nan, 'roomNumber': '311', 'floor': '3', 'members': ['Vishwajeet More'], 'class': 'nan'}, {'title': nan, 'roomNumber': '311', 'floor': '3', 'members': ['Azim Khan'], 'class': 'nan'}, {'title': nan, 'roomNumber': '311', 'floor': '3', 'members': ['Anas Choudhary'], 'class': 'nan'}, {'title': 'Hydrophonics', 'roomNumber': '410', 'floor': '4', 'members': ['Soham Kadu'], 'class': 'IX Y'}, {'title': nan, 'roomNumber': '410', 'floor': '4', 'members': ['Amogh Gondkar'], 'class': 'IX Y'}, {'title': nan, 'roomNumber': '410', 'floor': '4', 'members': ['Kalash Bhandari'], 'class': 'IX Y'}, {'title': 'The Hologram', 'roomNumber': '410', 'floor': '4', 'members': ['Kaushal Rane'], 'class': 'VI - K'}, {'title': 'Hologram', 'roomNumber': '410', 'floor': '4', 'members': ['Rifa Choudhary'], 'class': 'IX -G'}, {'title': nan, 'roomNumber': '410', 'floor': '4', 'members': ['Atharva Gandule'], 'class': 'VIII-Y'}, {'title': 'Human Respiratory System', 'roomNumber': '410', 'floor': '4', 'members': ['Shreyash Gager'], 'class': 'VII - K'}, {'title': nan, 'roomNumber': '410', 'floor': '4', 'members': ['Spandan Haldar'], 'class': 'VII - K'}, {'title': nan, 'roomNumber': '410', 'floor': '4', 'members': ['Avinash Suryawanshi'], 'class': 'VII - K'}, {'title': 'Projector', 'roomNumber': '410', 'floor': '4', 'members': ['Atharva Chede'], 'class': 'IX -Y'}, {'title': nan, 'roomNumber': '410', 'floor': '4', 'members': ['Jay Gaikwad'], 'class': 'IX-G'}, {'title': nan, 'roomNumber': '410', 'floor': '4', 'members': ['Mohil More'], 'class': 'IX-G'}, {'title': nan, 'roomNumber': '410', 'floor': '4', 'members': ['Saket Shinde'], 'class': 'IX-G'}, {'title': 'Mars Rover', 'roomNumber': '411', 'floor': '4', 'members': ['K Vinayak Shanboghe'], 'class': 'X'}, {'title': nan, 'roomNumber': '411', 'floor': '4', 'members': ['Aditya Jena'], 'class': 'X'}, {'title': nan, 'roomNumber': '411', 'floor': '4', 'members': ['Ishan Gajbhiye'], 'class': 'X'}, {'title': nan, 'roomNumber': '411', 'floor': '4', 'members': ['Eshaan Shetty'], 'class': 'X'}, {'title': 'Rain Sensor', 'roomNumber': '411', 'floor': '4', 'members': ['Aditi Tripati'], 'class': 'VIII-G'}, {'title': nan, 'roomNumber': '411', 'floor': '4', 'members': ['Anantika Modak'], 'class': 'VIII-G'}, {'title': nan, 'roomNumber': '411', 'floor': '4', 'members': ['Shreya Singh'], 'class': 'VIII-G'}, {'title': nan, 'roomNumber': '411', 'floor': '4', 'members': ['Sarayu Varier'], 'class': 'VIII-G'}, {'title': 'Hydroelectricity Generator', 'roomNumber': '411', 'floor': '4', 'members': ['Tanish Jadav'], 'class': 'IX -Y'}, {'title': nan, 'roomNumber': '411', 'floor': '4', 'members': ['Kaustubh Gholap'], 'class': 'IX -Y'}, {'title': nan, 'roomNumber': '411', 'floor': '4', 'members': ['Shourya Kharat'], 'class': 'IX -Y'}, {'title': 'Solar Panel Charger', 'roomNumber': '411', 'floor': '4', 'members': ['Rewa Panse'], 'class': 'VII-K'}, {'title': '3D Hologram', 'roomNumber': '411', 'floor': '4', 'members': ['Aditi Shahapurkar', 'Pranali More', 'Ovi Mulay', 'Shruti Karpe'], 'class': 'VII-G'}, {'title': 'FAN', 'roomNumber': '411', 'floor': '4', 'members': ['Vrunda Kulkarni', 'Sanika Katri', 'Aaradhya'], 'class': 'VII-G'}, {'title': 'Slar Energy', 'roomNumber': '411', 'floor': '4', 'members': ['Akshit Tigote'], 'class': 'VII-K'}, {'title': 'RC Bluetooth Car', 'roomNumber': '411', 'floor': '4', 'members': ['Sri charan M'], 'class': 'X-Y'}]\n"
     ]
    }
   ],
   "source": [
    "projects = []\n",
    "for index, row in df.iterrows():\n",
    "    projects.append({\n",
    "        \"title\": row[\"Project Name\"],\n",
    "        \"roomNumber\": str(row[\"Room No\"]),\n",
    "        \"floor\": str(row[\"Room No\"])[0],\n",
    "        \"members\": str(row[\"Student Name\"]).split(\",\"),\n",
    "        \"class\": str(row[\"Class\"])\n",
    "    })\n",
    "    for i in range(len(projects[-1][\"members\"])):\n",
    "        projects[-1][\"members\"][i] = projects[-1][\"members\"][i].strip()\n",
    "print(projects)"
   ]
  },
  {
   "cell_type": "code",
   "execution_count": 10,
   "metadata": {},
   "outputs": [],
   "source": [
    "# Now save to json\n",
    "import json\n",
    "with open('edata.json', 'w') as outfile:\n",
    "    json.dump({\n",
    "        \"floors\": floors,\n",
    "        \"rooms\": rooms,\n",
    "        \"projects\": projects,    \n",
    "    }, outfile, indent=4)"
   ]
  },
  {
   "cell_type": "code",
   "execution_count": 11,
   "metadata": {},
   "outputs": [
    {
     "name": "stdout",
     "output_type": "stream",
     "text": [
      "218\n"
     ]
    }
   ],
   "source": [
    "print(len(projects))"
   ]
  }
 ],
 "metadata": {
  "kernelspec": {
   "display_name": "Python 3",
   "language": "python",
   "name": "python3"
  },
  "language_info": {
   "codemirror_mode": {
    "name": "ipython",
    "version": 3
   },
   "file_extension": ".py",
   "mimetype": "text/x-python",
   "name": "python",
   "nbconvert_exporter": "python",
   "pygments_lexer": "ipython3",
   "version": "3.11.5"
  },
  "orig_nbformat": 4
 },
 "nbformat": 4,
 "nbformat_minor": 2
}
